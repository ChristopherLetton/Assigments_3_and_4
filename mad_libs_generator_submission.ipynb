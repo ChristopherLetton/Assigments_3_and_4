{
 "cells": [
  {
   "cell_type": "code",
   "execution_count": null,
   "metadata": {},
   "outputs": [],
   "source": [
    "# Project Brief\n",
    "# Inspired by Summer Son’s Mad Libs project with Javascript. The program will first prompt the\n",
    "# user for a series of inputs a la Mad Libs. For example, a singular noun, an adjective, etc. Then,\n",
    "# once all the information has been inputted, the program will take that data and place them into a\n",
    "# premade story template. You’ll need prompts for user input, and to then print out the full story at\n",
    "# the end with the input included.\n",
    "\n",
    "# Function creates a long mad lib\n",
    "def mad_lib_generator_long(noun, adjective, verb):\n",
    "    story = f\"\"\"\\n The very very very very very very very very very very very very very very very very very\n",
    " very very very very very very very very very very very very very very very very very very very very\n",
    " very very very very very very very very very very very very very very very very very very {adjective} {noun} {verb}s. The end.\"\"\"\n",
    "    return story\n",
    "\n",
    "# Function creates a short mad lib\n",
    "def mad_lib_generator_short(noun, adjective, verb):\n",
    "    story = f\"The {adjective} {noun} {verb}s. The end.\"\n",
    "    return story\n",
    "\n",
    "# Asks the user to initate the main loop\n",
    "request_story = input(\"Do you want to write a story?\").lower()\n",
    "\n",
    "# Main loop to take user input and then print the story\n",
    "while True:\n",
    "\n",
    "    if request_story == \"yes\":\n",
    "        type_story = input(\"Do you want a short or long story?\").lower()\n",
    "        user_noun = input(\"Please enter a noun:\")\n",
    "        user_adjective = input(\"Please enter an adjective:\")\n",
    "        user_verb = input(\"Please enter a verb in it's base (infinitive) form:\")\n",
    "        if type_story == \"short\":\n",
    "            print(\"Here is your story: \" + mad_lib_generator_short(user_noun, user_adjective, user_verb))\n",
    "        elif type_story == \"long\":\n",
    "            print(\"Here is your story: \" + mad_lib_generator_long(user_noun, user_adjective, user_verb))\n",
    "        break \n",
    "\n",
    "# Handles the case if user doesn't want to create a story\n",
    "    elif request_story == \"no\":\n",
    "        print(\"Fine. I didn't want to tell one anyway.\")\n",
    "        break\n",
    "\n",
    "# Handles any inputs that aren't yes or no\n",
    "    elif request_story != \"yes\" or \"no\":\n",
    "        request_story = input(\"I don't understand. Please enter 'yes' or 'no':\")\n",
    "        continue"
   ]
  }
 ],
 "metadata": {
  "language_info": {
   "name": "python"
  }
 },
 "nbformat": 4,
 "nbformat_minor": 2
}
